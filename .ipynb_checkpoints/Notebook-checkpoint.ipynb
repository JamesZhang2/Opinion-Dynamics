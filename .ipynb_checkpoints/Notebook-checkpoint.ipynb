{
 "cells": [
  {
   "cell_type": "code",
   "execution_count": 9,
   "id": "7a9633ce-37a8-4e06-b14e-47821632ac9a",
   "metadata": {},
   "outputs": [],
   "source": [
    "import networkx as nx\n",
    "import numpy as np\n",
    "from scipy.stats import uniform"
   ]
  },
  {
   "cell_type": "markdown",
   "id": "69a4b1ff-3179-4c68-9a80-f7a267ebbbe6",
   "metadata": {},
   "source": [
    "# Helpful functions"
   ]
  },
  {
   "cell_type": "code",
   "execution_count": 70,
   "id": "d2d9243c-727a-4314-9bab-ec1436e4d383",
   "metadata": {},
   "outputs": [],
   "source": [
    "def disagreement(G, opinions):\n",
    "    disagreement = 0\n",
    "    for i, nbrs in G.adj.items():\n",
    "        for j, eattr in nbrs.items():\n",
    "            disagreement += abs(eattr['weight']) * (opinions[i] - opinions[j])**2\n",
    "    return disagreement\n",
    "\n",
    "def polarization(G, opinions):\n",
    "    average_opinion = np.sum(opinions) / len(G.nodes)\n",
    "    mean_centered_opinion = opinions - average_opinion\n",
    "    return mean_centered_opinion.T @ mean_centered_opinion"
   ]
  },
  {
   "cell_type": "markdown",
   "id": "5b1b101a-594a-4dd1-928c-51658e39dbd6",
   "metadata": {},
   "source": [
    "### Basic FJ model on $G_{n,p}$ for $p=\\frac12$ where all weights are $w_{ij}$ uniform $[0,1]$ i.i.d., internal opinions are uniform $[0,1]$ i.i.d."
   ]
  },
  {
   "cell_type": "code",
   "execution_count": 75,
   "id": "7e4b3e4c-da00-481e-afad-f9ad625c8fe5",
   "metadata": {},
   "outputs": [
    {
     "data": {
      "text/plain": [
       "([np.float64(0.6973436971315328),\n",
       "  np.float64(0.6316515641591578),\n",
       "  np.float64(0.5882389862696722),\n",
       "  np.float64(0.6562696520000181),\n",
       "  np.float64(0.7148792472473389),\n",
       "  np.float64(0.6773959835696582),\n",
       "  np.float64(0.6363146756387078),\n",
       "  np.float64(0.6455084559146989),\n",
       "  np.float64(0.6047585494664679),\n",
       "  np.float64(0.6660353527272669)],\n",
       " [np.float64(0.0046640417631296106),\n",
       "  np.float64(0.004178029506447185),\n",
       "  np.float64(0.003909004736889222),\n",
       "  np.float64(0.004379937833037158),\n",
       "  np.float64(0.0047384665997998905),\n",
       "  np.float64(0.0044633128210180804),\n",
       "  np.float64(0.004216824810984028),\n",
       "  np.float64(0.004306270490705992),\n",
       "  np.float64(0.0040417405666234255),\n",
       "  np.float64(0.004454663144608906)])"
      ]
     },
     "execution_count": 75,
     "metadata": {},
     "output_type": "execute_result"
    }
   ],
   "source": [
    "def run_fj_and_return_expressed_opinions():\n",
    "    n = 300\n",
    "    p = 1/2\n",
    "    G = nx.erdos_renyi_graph(n, p)\n",
    "    for edge in G.edges:\n",
    "        G.edges[edge]['weight'] = uniform.rvs()\n",
    "    \n",
    "    internal_opinions = uniform.rvs(size=n)\n",
    "    expressed_opinions = internal_opinions.copy()\n",
    "    T = 1000\n",
    "    for t in range(T):\n",
    "        new_expressed_opinions = expressed_opinions.copy()\n",
    "        for i, nbrs in G.adj.items():\n",
    "            sum_neighboring_expressed_opinion = sum(expressed_opinions[j] * eattr['weight'] for j, eattr in nbrs.items())\n",
    "            sum_neighboring_weight = sum(eattr['weight'] for j, eattr in nbrs.items())\n",
    "            new_expressed_opinions[i] = (internal_opinions[i] + sum_neighboring_expressed_opinion) / (1 + sum_neighboring_weight)\n",
    "        expressed_opinions = new_expressed_opinions.copy()\n",
    "    return expressed_opinions\n",
    "\n",
    "num_trials = 10\n",
    "disagreements = []\n",
    "polarizations = []\n",
    "for trial in range(num_trials):\n",
    "    opinions = run_fj_and_return_expressed_opinions()\n",
    "    disagreements.append(disagreement(G, opinions))\n",
    "    polarizations.append(polarization(G, opinions))"
   ]
  },
  {
   "cell_type": "code",
   "execution_count": 77,
   "id": "1bda7006-b0f0-44c6-ab79-71d1a0f8dd09",
   "metadata": {},
   "outputs": [
    {
     "data": {
      "text/plain": [
       "(np.float64(0.6518396164124519), np.float64(0.00433522922732435))"
      ]
     },
     "execution_count": 77,
     "metadata": {},
     "output_type": "execute_result"
    }
   ],
   "source": [
    "np.sum(disagreements) / num_trials, np.sum(polarizations) / num_trials"
   ]
  },
  {
   "cell_type": "markdown",
   "id": "97e98c5a-ba66-4193-ab29-0dd8ce67acd7",
   "metadata": {},
   "source": [
    "### Negative weight FJ model on $G_{n,p}$ for $p=\\frac12$ where all weights are $w_{ij}$ uniform $[-1,1]$ i.i.d., internal opinions are uniform $[0,1]$ i.i.d. Using sigmoid function to normalize"
   ]
  },
  {
   "cell_type": "code",
   "execution_count": 78,
   "id": "5bac1789-a24c-4068-8d94-419f3dad9883",
   "metadata": {},
   "outputs": [],
   "source": [
    "from scipy.special import expit"
   ]
  },
  {
   "cell_type": "code",
   "execution_count": null,
   "id": "2e23c52d-093f-427b-9b08-cecf7df36ef8",
   "metadata": {},
   "outputs": [],
   "source": [
    "def run_fj_and_return_expressed_opinions():\n",
    "    n = 300\n",
    "    p = 1/2\n",
    "    G = nx.erdos_renyi_graph(n, p)\n",
    "    for edge in G.edges:\n",
    "        G.edges[edge]['weight'] = uniform.rvs(loc=-1, scale=2)\n",
    "    \n",
    "    internal_opinions = uniform.rvs(size=n)\n",
    "    expressed_opinions = internal_opinions.copy()\n",
    "    T = 1000\n",
    "    for t in range(T):\n",
    "        new_expressed_opinions = expressed_opinions.copy()\n",
    "        for i, nbrs in G.adj.items():\n",
    "            sum_neighboring_expressed_opinion = sum(expressed_opinions[j] * eattr['weight'] for j, eattr in nbrs.items())\n",
    "            sum_neighboring_weight = sum(eattr['weight'] for j, eattr in nbrs.items())\n",
    "            new_expressed_opinions[i] = expit(internal_opinions[i] + sum_neighboring_expressed_opinion)\n",
    "        expressed_opinions = new_expressed_opinions.copy()\n",
    "    return expressed_opinions\n",
    "\n",
    "num_trials = 10\n",
    "disagreements = []\n",
    "polarizations = []\n",
    "for trial in range(num_trials):\n",
    "    opinions = run_fj_and_return_expressed_opinions()\n",
    "    disagreements.append(disagreement(G, opinions))\n",
    "    polarizations.append(polarization(G, opinions))"
   ]
  },
  {
   "cell_type": "code",
   "execution_count": null,
   "id": "9212fb61-03b6-4a5a-9d0b-77895c640388",
   "metadata": {},
   "outputs": [],
   "source": [
    "disagreement(G, expressed_opinions), polarization(G, expressed_opinions)"
   ]
  },
  {
   "cell_type": "code",
   "execution_count": null,
   "id": "5db78ee6-faa9-49dc-97f0-3aa45763b26e",
   "metadata": {},
   "outputs": [],
   "source": [
    "np.sum(disagreements) / num_trials, np.sum(polarizations) / num_trials"
   ]
  },
  {
   "cell_type": "code",
   "execution_count": null,
   "id": "bb35b67e-da02-4c36-bbf0-ca70224253f8",
   "metadata": {},
   "outputs": [],
   "source": []
  }
 ],
 "metadata": {
  "kernelspec": {
   "display_name": "Python 3 (ipykernel)",
   "language": "python",
   "name": "python3"
  },
  "language_info": {
   "codemirror_mode": {
    "name": "ipython",
    "version": 3
   },
   "file_extension": ".py",
   "mimetype": "text/x-python",
   "name": "python",
   "nbconvert_exporter": "python",
   "pygments_lexer": "ipython3",
   "version": "3.9.6"
  }
 },
 "nbformat": 4,
 "nbformat_minor": 5
}
